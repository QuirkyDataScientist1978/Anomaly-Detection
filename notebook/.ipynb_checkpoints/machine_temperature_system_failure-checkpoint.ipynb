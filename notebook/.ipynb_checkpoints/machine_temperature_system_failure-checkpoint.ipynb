{
 "cells": [
  {
   "cell_type": "markdown",
   "metadata": {},
   "source": [
    "# Numenta Anomaly Benchmark\n",
    "\n",
    "### Dataset\n",
    "* machine_temperature_system_failure.csv\n",
    "    * Temperature sensor data of an internal component of a large, industrial machine.\n",
    "    * The first anomaly is a planned shutdown of the machine.\n",
    "    * The second anomaly is difficult to detect and directly led to the third anomaly, a catastrophic failure of the machine.\n",
    "    \n",
    "### Model\n",
    "* Long Short-Term Memory (LSTM) Autoencoder\n",
    "    * Long short-term memory (LSTM) is a recurrent neural network (RNN) architecture, used to process entire sequences of data.\n",
    "    * An autoencoder learns a representation for a set of data in an unsupervised manner by training the network to ignore signal “noise”.\n",
    "    * The reconstruction error serves as an indicator to the extent of a data instance being an anomaly."
   ]
  },
  {
   "cell_type": "code",
   "execution_count": 1,
   "metadata": {},
   "outputs": [
    {
     "name": "stderr",
     "output_type": "stream",
     "text": [
      "Using TensorFlow backend.\n"
     ]
    }
   ],
   "source": [
    "import os\n",
    "import sys\n",
    "sys.path.append(os.path.join(os.getcwd(), os.pardir))\n",
    "import pandas as pd\n",
    "import numpy as np\n",
    "import matplotlib.pyplot as plt\n",
    "# Silencing FutureWarning\n",
    "from pandas.plotting import register_matplotlib_converters\n",
    "register_matplotlib_converters()\n",
    "from util.utils import *\n",
    "from model.models import *"
   ]
  },
  {
   "cell_type": "code",
   "execution_count": 2,
   "metadata": {},
   "outputs": [
    {
     "data": {
      "text/html": [
       "<div>\n",
       "<style scoped>\n",
       "    .dataframe tbody tr th:only-of-type {\n",
       "        vertical-align: middle;\n",
       "    }\n",
       "\n",
       "    .dataframe tbody tr th {\n",
       "        vertical-align: top;\n",
       "    }\n",
       "\n",
       "    .dataframe thead th {\n",
       "        text-align: right;\n",
       "    }\n",
       "</style>\n",
       "<table border=\"1\" class=\"dataframe\">\n",
       "  <thead>\n",
       "    <tr style=\"text-align: right;\">\n",
       "      <th></th>\n",
       "      <th>value</th>\n",
       "    </tr>\n",
       "    <tr>\n",
       "      <th>timestamp</th>\n",
       "      <th></th>\n",
       "    </tr>\n",
       "  </thead>\n",
       "  <tbody>\n",
       "    <tr>\n",
       "      <th>2013-12-02 21:15:00</th>\n",
       "      <td>73.967322</td>\n",
       "    </tr>\n",
       "    <tr>\n",
       "      <th>2013-12-02 21:20:00</th>\n",
       "      <td>74.935882</td>\n",
       "    </tr>\n",
       "    <tr>\n",
       "      <th>2013-12-02 21:25:00</th>\n",
       "      <td>76.124162</td>\n",
       "    </tr>\n",
       "    <tr>\n",
       "      <th>2013-12-02 21:30:00</th>\n",
       "      <td>78.140707</td>\n",
       "    </tr>\n",
       "    <tr>\n",
       "      <th>2013-12-02 21:35:00</th>\n",
       "      <td>79.329836</td>\n",
       "    </tr>\n",
       "  </tbody>\n",
       "</table>\n",
       "</div>"
      ],
      "text/plain": [
       "                         value\n",
       "timestamp                     \n",
       "2013-12-02 21:15:00  73.967322\n",
       "2013-12-02 21:20:00  74.935882\n",
       "2013-12-02 21:25:00  76.124162\n",
       "2013-12-02 21:30:00  78.140707\n",
       "2013-12-02 21:35:00  79.329836"
      ]
     },
     "metadata": {},
     "output_type": "display_data"
    },
    {
     "data": {
      "image/png": "[encoded data removed]",
      "text/plain": [
       "<Figure size 432x288 with 1 Axes>"
      ]
     },
     "metadata": {
      "needs_background": "light"
     },
     "output_type": "display_data"
    }
   ],
   "source": [
    "# Import data\n",
    "df = pd.read_csv(\"../data/machine_temperature_system_failure.csv\")\n",
    "df['timestamp'] = pd.to_datetime(df['timestamp'])\n",
    "df.set_index('timestamp', inplace=True)\n",
    "display(df.head(5))\n",
    "\n",
    "# Visualise data\n",
    "plt.plot(df)\n",
    "plt.title(\"machine_temperature_system_failure.csv\")\n",
    "plt.show()"
   ]
  },
  {
   "cell_type": "code",
   "execution_count": 3,
   "metadata": {},
   "outputs": [
    {
     "data": {
      "text/plain": [
       "array([[73.96732207, 74.935882  , 76.12416182, 78.14070732, 79.32983574],\n",
       "       [74.935882  , 76.12416182, 78.14070732, 79.32983574, 78.71041827],\n",
       "       [76.12416182, 78.14070732, 79.32983574, 78.71041827, 80.26978421],\n",
       "       ...,\n",
       "       [98.16295219, 97.36090483, 98.18541493, 97.80416849, 97.13546835],\n",
       "       [97.36090483, 98.18541493, 97.80416849, 97.13546835, 98.05685212],\n",
       "       [98.18541493, 97.80416849, 97.13546835, 98.05685212, 96.90386085]])"
      ]
     },
     "execution_count": 3,
     "metadata": {},
     "output_type": "execute_result"
    }
   ],
   "source": [
    "# Create a trajectory matrix, i.e. rolling window representation\n",
    "timeseries = df['value']\n",
    "traj_mat = get_window(timeseries, backward=4)\n",
    "traj_mat"
   ]
  },
  {
   "cell_type": "code",
   "execution_count": 5,
   "metadata": {},
   "outputs": [
    {
     "name": "stdout",
     "output_type": "stream",
     "text": [
      "_________________________________________________________________\n",
      "Layer (type)                 Output Shape              Param #   \n",
      "=================================================================\n",
      "lstm_2 (LSTM)                (None, 128)               66560     \n",
      "_________________________________________________________________\n",
      "dense_2 (Dense)              (None, 5)                 645       \n",
      "=================================================================\n",
      "Total params: 67,205\n",
      "Trainable params: 67,205\n",
      "Non-trainable params: 0\n",
      "_________________________________________________________________\n",
      "None\n",
      "Train on 18152 samples, validate on 4539 samples\n",
      "Epoch 1/5\n",
      "18152/18152 [==============================] - 14s 781us/step - loss: 1316.2740 - mean_absolute_error: 25.1760 - val_loss: 21.0299 - val_mean_absolute_error: 3.4457\n",
      "Epoch 2/5\n",
      "18152/18152 [==============================] - 13s 709us/step - loss: 4.0560 - mean_absolute_error: 1.1797 - val_loss: 1.0981 - val_mean_absolute_error: 0.7501\n",
      "Epoch 3/5\n",
      "18152/18152 [==============================] - 13s 741us/step - loss: 1.1206 - mean_absolute_error: 0.7428 - val_loss: 1.0888 - val_mean_absolute_error: 0.7384\n",
      "Epoch 4/5\n",
      "18152/18152 [==============================] - 14s 747us/step - loss: 0.9884 - mean_absolute_error: 0.7030 - val_loss: 1.2536 - val_mean_absolute_error: 0.7822\n",
      "Epoch 5/5\n",
      "18152/18152 [==============================] - 14s 745us/step - loss: 0.9240 - mean_absolute_error: 0.6845 - val_loss: 1.2265 - val_mean_absolute_error: 0.7735\n"
     ]
    }
   ],
   "source": [
    "lae = LSTMAutoEncoder()\n",
    "lae.fit(traj_mat)\n",
    "scores = lae.predict(traj_mat)"
   ]
  },
  {
   "cell_type": "code",
   "execution_count": 6,
   "metadata": {},
   "outputs": [
    {
     "data": {
      "image/png": "[encoded data removed]",
      "text/plain": [
       "<Figure size 432x288 with 1 Axes>"
      ]
     },
     "metadata": {
      "needs_background": "light"
     },
     "output_type": "display_data"
    }
   ],
   "source": [
    "plt.plot(scores)\n",
    "plt.title(\"Reconstruction errors\")\n",
    "plt.show()"
   ]
  }
 ],
 "metadata": {
  "kernelspec": {
   "display_name": "anomaly-detection",
   "language": "python",
   "name": "anomaly-detection"
  },
  "language_info": {
   "codemirror_mode": {
    "name": "ipython",
    "version": 3
   },
   "file_extension": ".py",
   "mimetype": "text/x-python",
   "name": "python",
   "nbconvert_exporter": "python",
   "pygments_lexer": "ipython3",
   "version": "3.6.8"
  }
 },
 "nbformat": 4,
 "nbformat_minor": 2
}
